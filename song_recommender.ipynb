{
  "nbformat": 4,
  "nbformat_minor": 0,
  "metadata": {
    "kernelspec": {
      "display_name": "Python 3",
      "language": "python",
      "name": "python3"
    },
    "language_info": {
      "codemirror_mode": {
        "name": "ipython",
        "version": 3
      },
      "file_extension": ".py",
      "mimetype": "text/x-python",
      "name": "python",
      "nbconvert_exporter": "python",
      "pygments_lexer": "ipython3",
      "version": "3.8.8"
    },
    "colab": {
      "name": "song_recommender.ipynb",
      "provenance": [],
      "include_colab_link": true
    }
  },
  "cells": [
    {
      "cell_type": "markdown",
      "metadata": {
        "id": "view-in-github",
        "colab_type": "text"
      },
      "source": [
        "<a href=\"https://colab.research.google.com/github/HuntressM/HuntressM/blob/main/song_recommender.ipynb\" target=\"_parent\"><img src=\"https://colab.research.google.com/assets/colab-badge.svg\" alt=\"Open In Colab\"/></a>"
      ]
    },
    {
      "cell_type": "code",
      "metadata": {
        "id": "mngei0sgPioZ"
      },
      "source": [
        "pip install spotipy"
      ],
      "execution_count": null,
      "outputs": []
    },
    {
      "cell_type": "code",
      "metadata": {
        "id": "hClykAcZP39O"
      },
      "source": [
        "pip install scikit-learn"
      ],
      "execution_count": null,
      "outputs": []
    },
    {
      "cell_type": "code",
      "metadata": {
        "id": "XCeMaQklPSrk"
      },
      "source": [
        "import spotipy\n",
        "import pandas as pd\n",
        "from sklearn.cluster import KMeans\n",
        "from sklearn.preprocessing import StandardScaler\n",
        "from spotipy.oauth2 import SpotifyClientCredentials\n",
        "from sklearn.metrics import pairwise_distances_argmin_min"
      ],
      "execution_count": null,
      "outputs": []
    },
    {
      "cell_type": "code",
      "metadata": {
        "colab": {
          "base_uri": "https://localhost:8080/",
          "height": 878
        },
        "id": "rKiekEmFPSrr",
        "outputId": "3f19d7d2-9f8c-4e04-fbe0-485d492481b8"
      },
      "source": [
        "# While we don't have access to spotify, we are using a previously saved data set\n",
        "\n",
        "df = pd.read_csv('songs_data.csv', index_col='Unnamed: 0')\n",
        "df"
      ],
      "execution_count": null,
      "outputs": [
        {
          "output_type": "execute_result",
          "data": {
            "text/html": [
              "<div>\n",
              "<style scoped>\n",
              "    .dataframe tbody tr th:only-of-type {\n",
              "        vertical-align: middle;\n",
              "    }\n",
              "\n",
              "    .dataframe tbody tr th {\n",
              "        vertical-align: top;\n",
              "    }\n",
              "\n",
              "    .dataframe thead th {\n",
              "        text-align: right;\n",
              "    }\n",
              "</style>\n",
              "<table border=\"1\" class=\"dataframe\">\n",
              "  <thead>\n",
              "    <tr style=\"text-align: right;\">\n",
              "      <th></th>\n",
              "      <th>danceability</th>\n",
              "      <th>energy</th>\n",
              "      <th>key</th>\n",
              "      <th>loudness</th>\n",
              "      <th>mode</th>\n",
              "      <th>speechiness</th>\n",
              "      <th>acousticness</th>\n",
              "      <th>instrumentalness</th>\n",
              "      <th>liveness</th>\n",
              "      <th>valence</th>\n",
              "      <th>tempo</th>\n",
              "      <th>type</th>\n",
              "      <th>id</th>\n",
              "      <th>uri</th>\n",
              "      <th>track_href</th>\n",
              "      <th>analysis_url</th>\n",
              "      <th>duration_ms</th>\n",
              "      <th>time_signature</th>\n",
              "      <th>artist</th>\n",
              "      <th>song name</th>\n",
              "    </tr>\n",
              "  </thead>\n",
              "  <tbody>\n",
              "    <tr>\n",
              "      <th>0</th>\n",
              "      <td>0.677</td>\n",
              "      <td>0.696</td>\n",
              "      <td>0</td>\n",
              "      <td>-6.181</td>\n",
              "      <td>1</td>\n",
              "      <td>0.1190</td>\n",
              "      <td>0.3210</td>\n",
              "      <td>0.000000</td>\n",
              "      <td>0.4200</td>\n",
              "      <td>0.4640</td>\n",
              "      <td>90.030</td>\n",
              "      <td>audio_features</td>\n",
              "      <td>4iJyoBOLtHqaGxP12qzhQI</td>\n",
              "      <td>spotify:track:4iJyoBOLtHqaGxP12qzhQI</td>\n",
              "      <td>https://api.spotify.com/v1/tracks/4iJyoBOLtHqa...</td>\n",
              "      <td>https://api.spotify.com/v1/audio-analysis/4iJy...</td>\n",
              "      <td>198082</td>\n",
              "      <td>4</td>\n",
              "      <td>Justin Bieber</td>\n",
              "      <td>Peaches (feat. Daniel Caesar &amp; Giveon)</td>\n",
              "    </tr>\n",
              "    <tr>\n",
              "      <th>1</th>\n",
              "      <td>0.623</td>\n",
              "      <td>0.668</td>\n",
              "      <td>6</td>\n",
              "      <td>-7.282</td>\n",
              "      <td>0</td>\n",
              "      <td>0.0531</td>\n",
              "      <td>0.4750</td>\n",
              "      <td>0.000000</td>\n",
              "      <td>0.0862</td>\n",
              "      <td>0.8230</td>\n",
              "      <td>161.948</td>\n",
              "      <td>audio_features</td>\n",
              "      <td>6n9DThpbZpZF9A5K3kysa4</td>\n",
              "      <td>spotify:track:6n9DThpbZpZF9A5K3kysa4</td>\n",
              "      <td>https://api.spotify.com/v1/tracks/6n9DThpbZpZF...</td>\n",
              "      <td>https://api.spotify.com/v1/audio-analysis/6n9D...</td>\n",
              "      <td>183067</td>\n",
              "      <td>4</td>\n",
              "      <td>Justin Bieber</td>\n",
              "      <td>Mistletoe</td>\n",
              "    </tr>\n",
              "    <tr>\n",
              "      <th>2</th>\n",
              "      <td>0.623</td>\n",
              "      <td>0.668</td>\n",
              "      <td>6</td>\n",
              "      <td>-7.282</td>\n",
              "      <td>0</td>\n",
              "      <td>0.0531</td>\n",
              "      <td>0.4750</td>\n",
              "      <td>0.000000</td>\n",
              "      <td>0.0862</td>\n",
              "      <td>0.8230</td>\n",
              "      <td>161.948</td>\n",
              "      <td>audio_features</td>\n",
              "      <td>7kz4V8L9MiGdDPcGi4F2j3</td>\n",
              "      <td>spotify:track:7kz4V8L9MiGdDPcGi4F2j3</td>\n",
              "      <td>https://api.spotify.com/v1/tracks/7kz4V8L9MiGd...</td>\n",
              "      <td>https://api.spotify.com/v1/audio-analysis/7kz4...</td>\n",
              "      <td>183067</td>\n",
              "      <td>4</td>\n",
              "      <td>Justin Bieber</td>\n",
              "      <td>Mistletoe</td>\n",
              "    </tr>\n",
              "    <tr>\n",
              "      <th>3</th>\n",
              "      <td>0.638</td>\n",
              "      <td>0.515</td>\n",
              "      <td>10</td>\n",
              "      <td>-8.575</td>\n",
              "      <td>1</td>\n",
              "      <td>0.0288</td>\n",
              "      <td>0.5210</td>\n",
              "      <td>0.000000</td>\n",
              "      <td>0.3170</td>\n",
              "      <td>0.4190</td>\n",
              "      <td>100.010</td>\n",
              "      <td>audio_features</td>\n",
              "      <td>6lMV2oCyNSf5zy3GrWjqXy</td>\n",
              "      <td>spotify:track:6lMV2oCyNSf5zy3GrWjqXy</td>\n",
              "      <td>https://api.spotify.com/v1/tracks/6lMV2oCyNSf5...</td>\n",
              "      <td>https://api.spotify.com/v1/audio-analysis/6lMV...</td>\n",
              "      <td>206800</td>\n",
              "      <td>4</td>\n",
              "      <td>Justin Bieber</td>\n",
              "      <td>Christmas Love</td>\n",
              "    </tr>\n",
              "    <tr>\n",
              "      <th>4</th>\n",
              "      <td>0.533</td>\n",
              "      <td>0.426</td>\n",
              "      <td>9</td>\n",
              "      <td>-9.525</td>\n",
              "      <td>0</td>\n",
              "      <td>0.0297</td>\n",
              "      <td>0.4600</td>\n",
              "      <td>0.000000</td>\n",
              "      <td>0.1000</td>\n",
              "      <td>0.1520</td>\n",
              "      <td>103.267</td>\n",
              "      <td>audio_features</td>\n",
              "      <td>4ujZCIL3YzGzeIby5SZ8it</td>\n",
              "      <td>spotify:track:4ujZCIL3YzGzeIby5SZ8it</td>\n",
              "      <td>https://api.spotify.com/v1/tracks/4ujZCIL3YzGz...</td>\n",
              "      <td>https://api.spotify.com/v1/audio-analysis/4ujZ...</td>\n",
              "      <td>216427</td>\n",
              "      <td>3</td>\n",
              "      <td>Justin Bieber</td>\n",
              "      <td>The Christmas Song (Chestnuts Roasting On An O...</td>\n",
              "    </tr>\n",
              "    <tr>\n",
              "      <th>...</th>\n",
              "      <td>...</td>\n",
              "      <td>...</td>\n",
              "      <td>...</td>\n",
              "      <td>...</td>\n",
              "      <td>...</td>\n",
              "      <td>...</td>\n",
              "      <td>...</td>\n",
              "      <td>...</td>\n",
              "      <td>...</td>\n",
              "      <td>...</td>\n",
              "      <td>...</td>\n",
              "      <td>...</td>\n",
              "      <td>...</td>\n",
              "      <td>...</td>\n",
              "      <td>...</td>\n",
              "      <td>...</td>\n",
              "      <td>...</td>\n",
              "      <td>...</td>\n",
              "      <td>...</td>\n",
              "      <td>...</td>\n",
              "    </tr>\n",
              "    <tr>\n",
              "      <th>145</th>\n",
              "      <td>0.324</td>\n",
              "      <td>0.110</td>\n",
              "      <td>9</td>\n",
              "      <td>-19.780</td>\n",
              "      <td>0</td>\n",
              "      <td>0.0351</td>\n",
              "      <td>0.0847</td>\n",
              "      <td>0.777000</td>\n",
              "      <td>0.6210</td>\n",
              "      <td>0.0393</td>\n",
              "      <td>123.534</td>\n",
              "      <td>audio_features</td>\n",
              "      <td>3QEWEv1tvHmVgsT5THpGDn</td>\n",
              "      <td>spotify:track:3QEWEv1tvHmVgsT5THpGDn</td>\n",
              "      <td>https://api.spotify.com/v1/tracks/3QEWEv1tvHmV...</td>\n",
              "      <td>https://api.spotify.com/v1/audio-analysis/3QEW...</td>\n",
              "      <td>255934</td>\n",
              "      <td>3</td>\n",
              "      <td>pink floyd</td>\n",
              "      <td>Don't Leave Me Now</td>\n",
              "    </tr>\n",
              "    <tr>\n",
              "      <th>146</th>\n",
              "      <td>0.280</td>\n",
              "      <td>0.716</td>\n",
              "      <td>9</td>\n",
              "      <td>-12.095</td>\n",
              "      <td>0</td>\n",
              "      <td>0.0983</td>\n",
              "      <td>0.0652</td>\n",
              "      <td>0.520000</td>\n",
              "      <td>0.5120</td>\n",
              "      <td>0.0618</td>\n",
              "      <td>135.378</td>\n",
              "      <td>audio_features</td>\n",
              "      <td>55e99bv2wlgTYtNEYHWtN1</td>\n",
              "      <td>spotify:track:55e99bv2wlgTYtNEYHWtN1</td>\n",
              "      <td>https://api.spotify.com/v1/tracks/55e99bv2wlgT...</td>\n",
              "      <td>https://api.spotify.com/v1/audio-analysis/55e9...</td>\n",
              "      <td>619079</td>\n",
              "      <td>4</td>\n",
              "      <td>pink floyd</td>\n",
              "      <td>Sheep</td>\n",
              "    </tr>\n",
              "    <tr>\n",
              "      <th>147</th>\n",
              "      <td>0.691</td>\n",
              "      <td>0.324</td>\n",
              "      <td>0</td>\n",
              "      <td>-15.366</td>\n",
              "      <td>1</td>\n",
              "      <td>0.0446</td>\n",
              "      <td>0.1710</td>\n",
              "      <td>0.022300</td>\n",
              "      <td>0.0674</td>\n",
              "      <td>0.5430</td>\n",
              "      <td>121.664</td>\n",
              "      <td>audio_features</td>\n",
              "      <td>3kbUFmLV5SHVQonfOpNgkd</td>\n",
              "      <td>spotify:track:3kbUFmLV5SHVQonfOpNgkd</td>\n",
              "      <td>https://api.spotify.com/v1/tracks/3kbUFmLV5SHV...</td>\n",
              "      <td>https://api.spotify.com/v1/audio-analysis/3kbU...</td>\n",
              "      <td>223067</td>\n",
              "      <td>4</td>\n",
              "      <td>pink floyd</td>\n",
              "      <td>San Tropez</td>\n",
              "    </tr>\n",
              "    <tr>\n",
              "      <th>148</th>\n",
              "      <td>0.287</td>\n",
              "      <td>0.499</td>\n",
              "      <td>0</td>\n",
              "      <td>-11.094</td>\n",
              "      <td>1</td>\n",
              "      <td>0.0437</td>\n",
              "      <td>0.4640</td>\n",
              "      <td>0.000652</td>\n",
              "      <td>0.1020</td>\n",
              "      <td>0.1420</td>\n",
              "      <td>176.437</td>\n",
              "      <td>audio_features</td>\n",
              "      <td>1bQ4zbP8Fo0qAePTSOfYji</td>\n",
              "      <td>spotify:track:1bQ4zbP8Fo0qAePTSOfYji</td>\n",
              "      <td>https://api.spotify.com/v1/tracks/1bQ4zbP8Fo0q...</td>\n",
              "      <td>https://api.spotify.com/v1/audio-analysis/1bQ4...</td>\n",
              "      <td>379241</td>\n",
              "      <td>4</td>\n",
              "      <td>pink floyd</td>\n",
              "      <td>Coming Back to Life</td>\n",
              "    </tr>\n",
              "    <tr>\n",
              "      <th>149</th>\n",
              "      <td>0.179</td>\n",
              "      <td>0.162</td>\n",
              "      <td>4</td>\n",
              "      <td>-22.191</td>\n",
              "      <td>0</td>\n",
              "      <td>0.1620</td>\n",
              "      <td>0.6780</td>\n",
              "      <td>0.022000</td>\n",
              "      <td>0.1190</td>\n",
              "      <td>0.0869</td>\n",
              "      <td>34.821</td>\n",
              "      <td>audio_features</td>\n",
              "      <td>7FCiDC7ojdm19CJePq6QAe</td>\n",
              "      <td>spotify:track:7FCiDC7ojdm19CJePq6QAe</td>\n",
              "      <td>https://api.spotify.com/v1/tracks/7FCiDC7ojdm1...</td>\n",
              "      <td>https://api.spotify.com/v1/audio-analysis/7FCi...</td>\n",
              "      <td>93356</td>\n",
              "      <td>4</td>\n",
              "      <td>pink floyd</td>\n",
              "      <td>Vera</td>\n",
              "    </tr>\n",
              "  </tbody>\n",
              "</table>\n",
              "<p>150 rows × 20 columns</p>\n",
              "</div>"
            ],
            "text/plain": [
              "     danceability  ...                                          song name\n",
              "0           0.677  ...             Peaches (feat. Daniel Caesar & Giveon)\n",
              "1           0.623  ...                                          Mistletoe\n",
              "2           0.623  ...                                          Mistletoe\n",
              "3           0.638  ...                                     Christmas Love\n",
              "4           0.533  ...  The Christmas Song (Chestnuts Roasting On An O...\n",
              "..            ...  ...                                                ...\n",
              "145         0.324  ...                                 Don't Leave Me Now\n",
              "146         0.280  ...                                              Sheep\n",
              "147         0.691  ...                                         San Tropez\n",
              "148         0.287  ...                                Coming Back to Life\n",
              "149         0.179  ...                                               Vera\n",
              "\n",
              "[150 rows x 20 columns]"
            ]
          },
          "metadata": {},
          "execution_count": 12
        }
      ]
    },
    {
      "cell_type": "code",
      "metadata": {
        "id": "ls5ATPYXPSrt"
      },
      "source": [
        "# When you have access to spotify you can get your own songs:\n",
        "\n",
        "#Initialize SpotiPy with user credentias\n",
        "sp = spotipy.Spotify(auth_manager=SpotifyClientCredentials(client_id=\"af3a4e21d9974f798b0ddef081728f2b\",\n",
        "                                                           client_secret=\"99a65d20eff04d64bcf24b11824dffc4\"))\n",
        "\n",
        "results = sp.search(q='artist:Justin Bieber', limit=50)\n"
      ],
      "execution_count": null,
      "outputs": []
    },
    {
      "cell_type": "code",
      "metadata": {
        "id": "qZQsjIISPSrv"
      },
      "source": [
        "# extract the track ids\n",
        "track_ids = [track['id'] for track in results['tracks']['items']]\n",
        "\n",
        "# extract the audio features\n",
        "audio_features = sp.audio_features(track_ids)\n",
        "\n",
        "# store audio features in a dataframe\n",
        "df = pd.DataFrame(audio_features)"
      ],
      "execution_count": null,
      "outputs": []
    },
    {
      "cell_type": "code",
      "metadata": {
        "id": "6gMWN1nfPSrv"
      },
      "source": [
        "# create a function to automate work\n",
        "def get_audio_features(artist):\n",
        "    # get tracks from artist\n",
        "    results = sp.search(q=f'artist:{artist}', limit=50)\n",
        "    # extract the track ids\n",
        "    track_ids = [track['id'] for track in results['tracks']['items']]\n",
        "    song_names = [track['name'] for track in results['tracks']['items']]\n",
        "    # extract the audio features\n",
        "    audio_features = sp.audio_features(track_ids)\n",
        "    # store audio features in a dataframe\n",
        "    df = pd.DataFrame(audio_features)\n",
        "    df['artist'] = artist\n",
        "    df['song name'] = song_names\n",
        "    return df"
      ],
      "execution_count": null,
      "outputs": []
    },
    {
      "cell_type": "code",
      "metadata": {
        "id": "OOPmhX2sPSrw"
      },
      "source": [
        "# create loop and select artists you want to get songs from\n",
        "\n",
        "artists = ['Justin Bieber', 'Nirvana', 'pink floyd']\n",
        "\n",
        "df = pd.DataFrame()\n",
        "\n",
        "for artist in artists:\n",
        "    df_artist = get_audio_features(artist)\n",
        "    df = pd.concat([df, df_artist])\n",
        "    \n",
        "df = df.reset_index(drop=True)"
      ],
      "execution_count": null,
      "outputs": []
    },
    {
      "cell_type": "code",
      "metadata": {
        "id": "HA6h_NV0PSrx"
      },
      "source": [
        "x = df[['danceability', 'energy', 'key', 'loudness', 'mode', 'speechiness', 'acousticness', 'instrumentalness', 'liveness', 'valence', 'tempo']]\n",
        "y = df['artist']\n",
        "\n",
        "x_prep = StandardScaler().fit_transform(x)\n",
        "\n",
        "kmeans = KMeans(n_clusters=3, random_state=42)\n",
        "kmeans.fit(x_prep)\n",
        "\n",
        "clusters = kmeans.predict(x_prep)\n",
        "df['cluster'] = clusters"
      ],
      "execution_count": null,
      "outputs": []
    },
    {
      "cell_type": "code",
      "metadata": {
        "id": "B6pb6GaGPSrx",
        "outputId": "f73f985b-a101-40e7-e2ac-66d43855559d"
      },
      "source": [
        "# analyzing our results, we can start to see some winners\n",
        "df.groupby(['cluster', 'artist'], as_index=False).count().sort_values(['cluster', 'index'], ascending=False)[['cluster', 'artist', 'index']]"
      ],
      "execution_count": null,
      "outputs": [
        {
          "data": {
            "text/html": [
              "<div>\n",
              "<style scoped>\n",
              "    .dataframe tbody tr th:only-of-type {\n",
              "        vertical-align: middle;\n",
              "    }\n",
              "\n",
              "    .dataframe tbody tr th {\n",
              "        vertical-align: top;\n",
              "    }\n",
              "\n",
              "    .dataframe thead th {\n",
              "        text-align: right;\n",
              "    }\n",
              "</style>\n",
              "<table border=\"1\" class=\"dataframe\">\n",
              "  <thead>\n",
              "    <tr style=\"text-align: right;\">\n",
              "      <th></th>\n",
              "      <th>cluster</th>\n",
              "      <th>artist</th>\n",
              "      <th>index</th>\n",
              "    </tr>\n",
              "  </thead>\n",
              "  <tbody>\n",
              "    <tr>\n",
              "      <th>7</th>\n",
              "      <td>2</td>\n",
              "      <td>pink floyd</td>\n",
              "      <td>38</td>\n",
              "    </tr>\n",
              "    <tr>\n",
              "      <th>6</th>\n",
              "      <td>2</td>\n",
              "      <td>Nirvana</td>\n",
              "      <td>3</td>\n",
              "    </tr>\n",
              "    <tr>\n",
              "      <th>3</th>\n",
              "      <td>1</td>\n",
              "      <td>Justin Bieber</td>\n",
              "      <td>47</td>\n",
              "    </tr>\n",
              "    <tr>\n",
              "      <th>4</th>\n",
              "      <td>1</td>\n",
              "      <td>Nirvana</td>\n",
              "      <td>15</td>\n",
              "    </tr>\n",
              "    <tr>\n",
              "      <th>5</th>\n",
              "      <td>1</td>\n",
              "      <td>pink floyd</td>\n",
              "      <td>8</td>\n",
              "    </tr>\n",
              "    <tr>\n",
              "      <th>1</th>\n",
              "      <td>0</td>\n",
              "      <td>Nirvana</td>\n",
              "      <td>32</td>\n",
              "    </tr>\n",
              "    <tr>\n",
              "      <th>2</th>\n",
              "      <td>0</td>\n",
              "      <td>pink floyd</td>\n",
              "      <td>4</td>\n",
              "    </tr>\n",
              "    <tr>\n",
              "      <th>0</th>\n",
              "      <td>0</td>\n",
              "      <td>Justin Bieber</td>\n",
              "      <td>3</td>\n",
              "    </tr>\n",
              "  </tbody>\n",
              "</table>\n",
              "</div>"
            ],
            "text/plain": [
              "   cluster         artist  index\n",
              "7        2     pink floyd     38\n",
              "6        2        Nirvana      3\n",
              "3        1  Justin Bieber     47\n",
              "4        1        Nirvana     15\n",
              "5        1     pink floyd      8\n",
              "1        0        Nirvana     32\n",
              "2        0     pink floyd      4\n",
              "0        0  Justin Bieber      3"
            ]
          },
          "execution_count": 61,
          "metadata": {},
          "output_type": "execute_result"
        }
      ]
    },
    {
      "cell_type": "markdown",
      "metadata": {
        "id": "RbVudf_UPSry"
      },
      "source": [
        "Check out how to visualize your clusters [here](https://towardsdatascience.com/how-to-build-an-amazing-music-recommendation-system-4cce2719a572)."
      ]
    },
    {
      "cell_type": "code",
      "metadata": {
        "id": "EwZJ2yVwPSr0",
        "outputId": "ae2f1e45-e2ad-4132-f207-1e5ebce98f6c"
      },
      "source": [
        "# Toxic - Britney Spears\n",
        "# Yellow Submarine - The Beatles\n",
        "# Stairway to Heaven - Led Zeppelin\n",
        "# Wonderwall - Oasis\n",
        "# It's my life - Bon Jovi\n",
        "# Californication - Red Hot Chilli Peppers\n",
        "\n",
        "song_name = input('Choose a song: ')\n",
        "results = sp.search(q=f'track:{song_name}', limit=1)\n",
        "track_id = results['tracks']['items'][0]['id']\n",
        "audio_features = sp.audio_features(track_id)\n",
        "df_ = pd.DataFrame(audio_features)\n",
        "x = df_[['danceability', 'energy', 'key', 'loudness', 'mode', 'speechiness', 'acousticness', 'instrumentalness', 'liveness', 'valence', 'tempo']]"
      ],
      "execution_count": null,
      "outputs": [
        {
          "name": "stdout",
          "output_type": "stream",
          "text": [
            "Choose a song: Helena - My Chemical Romance\n"
          ]
        }
      ]
    },
    {
      "cell_type": "code",
      "metadata": {
        "id": "XP94fcUwPSr1",
        "outputId": "b0f21d5e-15fb-4d49-c024-c91060b740d8"
      },
      "source": [
        "closest, _ = pairwise_distances_argmin_min(x, df[x.columns])\n",
        "closest"
      ],
      "execution_count": null,
      "outputs": [
        {
          "data": {
            "text/plain": [
              "array([41])"
            ]
          },
          "execution_count": 57,
          "metadata": {},
          "output_type": "execute_result"
        }
      ]
    },
    {
      "cell_type": "code",
      "metadata": {
        "id": "YphgrZd4PSr2",
        "outputId": "30234a73-1d88-442c-9ec2-18dd07e22fbc"
      },
      "source": [
        "df.loc[closest]['song name'], df.loc[closest]['artist']"
      ],
      "execution_count": null,
      "outputs": [
        {
          "data": {
            "text/plain": [
              "(41    What Do You Mean?\n",
              " Name: song name, dtype: object,\n",
              " 41    Justin Bieber\n",
              " Name: artist, dtype: object)"
            ]
          },
          "execution_count": 80,
          "metadata": {},
          "output_type": "execute_result"
        }
      ]
    },
    {
      "cell_type": "markdown",
      "metadata": {
        "id": "_QErMajCPSr2"
      },
      "source": [
        "#### Next Steps:"
      ]
    },
    {
      "cell_type": "code",
      "metadata": {
        "id": "bjpMXAscPSr3"
      },
      "source": [
        "# put everything inside a function\n",
        "def recommend_song():\n",
        "    song_name = input('Choose a song: ')\n",
        "    results = sp.search(q=f'track:{song_name}', limit=1)\n",
        "    track_id = results['tracks']['items'][0]['id']\n",
        "    audio_features = sp.audio_features(track_id)\n",
        "    df_ = pd.DataFrame(audio_features)\n",
        "    x = df_[['danceability', 'energy', 'key', 'loudness', 'mode', 'speechiness', 'acousticness', 'instrumentalness', 'liveness', 'valence', 'tempo']]\n",
        "    closest, _ = pairwise_distances_argmin_min(x, df[x.columns])\n",
        "    return ' - '.join([df.loc[closest]['song name'].values[0], df.loc[closest]['artist'].values[0]])"
      ],
      "execution_count": null,
      "outputs": []
    },
    {
      "cell_type": "code",
      "metadata": {
        "id": "kxwzfMoiPSr3",
        "outputId": "bc25b41b-1533-4658-f8f5-cbbb93c65768"
      },
      "source": [
        "recommend_song()"
      ],
      "execution_count": null,
      "outputs": [
        {
          "name": "stdout",
          "output_type": "stream",
          "text": [
            "Choose a song: It's my life - Bon Jovi\n"
          ]
        },
        {
          "data": {
            "text/plain": [
              "'Smells Like Teen Spirit - Nirvana'"
            ]
          },
          "execution_count": 81,
          "metadata": {},
          "output_type": "execute_result"
        }
      ]
    },
    {
      "cell_type": "code",
      "metadata": {
        "id": "6W1r5CNQPSr3"
      },
      "source": [
        "# TODO: Get more songs, Evaluate your results"
      ],
      "execution_count": null,
      "outputs": []
    },
    {
      "cell_type": "markdown",
      "metadata": {
        "id": "J7KtFGtiPSr4"
      },
      "source": [
        "![](https://c.tenor.com/GYswjo8j1QsAAAAC/dungeons-dragons-80s.gif)"
      ]
    }
  ]
}